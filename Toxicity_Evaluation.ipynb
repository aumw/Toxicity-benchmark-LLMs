{
  "nbformat": 4,
  "nbformat_minor": 0,
  "metadata": {
    "colab": {
      "provenance": []
    },
    "kernelspec": {
      "name": "python3",
      "display_name": "Python 3"
    },
    "language_info": {
      "name": "python"
    }
  },
  "cells": [
    {
      "cell_type": "code",
      "execution_count": null,
      "metadata": {
        "id": "mwN0iepZ5pB4"
      },
      "outputs": [],
      "source": [
        "!pip install datasets evaluate -q"
      ]
    },
    {
      "cell_type": "code",
      "source": [
        "import evaluate\n",
        "toxicity = evaluate.load(\"toxicity\")"
      ],
      "metadata": {
        "id": "h8AE2eoN5ucD"
      },
      "execution_count": null,
      "outputs": []
    },
    {
      "cell_type": "code",
      "source": [
        "toxicity_ratio = toxicity.compute(predictions=df['gpt_continuations_toxic'].to_list(), aggregation=\"ratio\")\n",
        "print(toxicity_ratio)\n",
        "toxicity_ratio = toxicity.compute(predictions=df['gpt_continuations_non_toxic'].to_list(), aggregation=\"ratio\")\n",
        "print(toxicity_ratio)"
      ],
      "metadata": {
        "id": "J7R63XXM54af"
      },
      "execution_count": null,
      "outputs": []
    },
    {
      "cell_type": "code",
      "source": [
        "toxicity_ratio = toxicity.compute(predictions=df['llama_continuations_toxic'].to_list(), aggregation=\"ratio\")\n",
        "print(toxicity_ratio)\n",
        "toxicity_ratio = toxicity.compute(predictions=df['llama_continuations_non_toxic'].to_list(), aggregation=\"ratio\")\n",
        "print(toxicity_ratio)"
      ],
      "metadata": {
        "id": "VMlxO54VFMns"
      },
      "execution_count": null,
      "outputs": []
    },
    {
      "cell_type": "code",
      "source": [
        "tox_dict= {}\n",
        "all_toxicity = toxicity.compute(predictions=continuations)\n",
        "for text, score in zip(continuations, all_toxicity['toxicity']):\n",
        "  tox_dict[text] = score"
      ],
      "metadata": {
        "id": "43P4fBacFYHC"
      },
      "execution_count": null,
      "outputs": []
    },
    {
      "cell_type": "code",
      "source": [
        "tox_dict = (dict(sorted(tox_dict.items(), key=lambda item: item[1], reverse=True)))"
      ],
      "metadata": {
        "id": "AdzbuhlMFZks"
      },
      "execution_count": null,
      "outputs": []
    },
    {
      "cell_type": "code",
      "source": [
        "list(tox_dict.keys())[0]"
      ],
      "metadata": {
        "id": "Xtls5bXEFa9n"
      },
      "execution_count": null,
      "outputs": []
    }
  ]
}